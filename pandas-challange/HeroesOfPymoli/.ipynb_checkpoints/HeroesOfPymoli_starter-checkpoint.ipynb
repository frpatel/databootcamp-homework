{
 "cells": [
  {
   "cell_type": "markdown",
   "metadata": {},
   "source": [
    "### Note\n",
    "* Instructions have been included for each segment. You do not have to follow them exactly, but they are included to help you think through the steps."
   ]
  },
  {
   "cell_type": "code",
   "execution_count": 1,
   "metadata": {},
   "outputs": [],
   "source": [
    "# Dependencies and Setup\n",
    "import pandas as pd\n",
    "\n",
    "# File to Load (Remember to Change These)\n",
    "file_to_load = \"Resources/purchase_data.csv\"\n",
    "\n",
    "# Read Purchasing File and store into Pandas data frame\n",
    "purchase_data = pd.read_csv(file_to_load)"
   ]
  },
  {
   "cell_type": "markdown",
   "metadata": {},
   "source": [
    "## Player Count"
   ]
  },
  {
   "cell_type": "markdown",
   "metadata": {},
   "source": [
    "* Display the total number of players\n"
   ]
  },
  {
   "cell_type": "code",
   "execution_count": 2,
   "metadata": {},
   "outputs": [
    {
     "data": {
      "text/html": [
       "<div>\n",
       "<style scoped>\n",
       "    .dataframe tbody tr th:only-of-type {\n",
       "        vertical-align: middle;\n",
       "    }\n",
       "\n",
       "    .dataframe tbody tr th {\n",
       "        vertical-align: top;\n",
       "    }\n",
       "\n",
       "    .dataframe thead th {\n",
       "        text-align: right;\n",
       "    }\n",
       "</style>\n",
       "<table border=\"1\" class=\"dataframe\">\n",
       "  <thead>\n",
       "    <tr style=\"text-align: right;\">\n",
       "      <th></th>\n",
       "      <th>Total Players</th>\n",
       "    </tr>\n",
       "  </thead>\n",
       "  <tbody>\n",
       "    <tr>\n",
       "      <th>0</th>\n",
       "      <td>576</td>\n",
       "    </tr>\n",
       "  </tbody>\n",
       "</table>\n",
       "</div>"
      ],
      "text/plain": [
       "   Total Players\n",
       "0            576"
      ]
     },
     "execution_count": 2,
     "metadata": {},
     "output_type": "execute_result"
    }
   ],
   "source": [
    "player_count = len(purchase_data['SN'].unique())\n",
    "players_df = pd.DataFrame([{'Total Players': player_count}])\n",
    "\n",
    "players_df"
   ]
  },
  {
   "cell_type": "markdown",
   "metadata": {},
   "source": [
    "## Purchasing Analysis (Total)"
   ]
  },
  {
   "cell_type": "markdown",
   "metadata": {},
   "source": [
    "* Run basic calculations to obtain number of unique items, average price, etc.\n",
    "\n",
    "\n",
    "* Create a summary data frame to hold the results\n",
    "\n",
    "\n",
    "* Optional: give the displayed data cleaner formatting\n",
    "\n",
    "\n",
    "* Display the summary data frame\n"
   ]
  },
  {
   "cell_type": "code",
   "execution_count": 4,
   "metadata": {
    "scrolled": true
   },
   "outputs": [
    {
     "data": {
      "text/html": [
       "<style  type=\"text/css\" >\n",
       "</style><table id=\"T_de8f38dc_f5ea_11e9_8364_18dbf24bbe1f\" ><thead>    <tr>        <th class=\"blank level0\" ></th>        <th class=\"col_heading level0 col0\" >Average Purchase Price</th>        <th class=\"col_heading level0 col1\" >Number of Unique Items</th>        <th class=\"col_heading level0 col2\" >Total Purchases</th>        <th class=\"col_heading level0 col3\" >Total Revenue</th>    </tr></thead><tbody>\n",
       "                <tr>\n",
       "                        <th id=\"T_de8f38dc_f5ea_11e9_8364_18dbf24bbe1flevel0_row0\" class=\"row_heading level0 row0\" >0</th>\n",
       "                        <td id=\"T_de8f38dc_f5ea_11e9_8364_18dbf24bbe1frow0_col0\" class=\"data row0 col0\" >$3.05</td>\n",
       "                        <td id=\"T_de8f38dc_f5ea_11e9_8364_18dbf24bbe1frow0_col1\" class=\"data row0 col1\" >183</td>\n",
       "                        <td id=\"T_de8f38dc_f5ea_11e9_8364_18dbf24bbe1frow0_col2\" class=\"data row0 col2\" >780</td>\n",
       "                        <td id=\"T_de8f38dc_f5ea_11e9_8364_18dbf24bbe1frow0_col3\" class=\"data row0 col3\" >$2,379.77</td>\n",
       "            </tr>\n",
       "    </tbody></table>"
      ],
      "text/plain": [
       "<pandas.io.formats.style.Styler at 0x168eb93af98>"
      ]
     },
     "execution_count": 4,
     "metadata": {},
     "output_type": "execute_result"
    }
   ],
   "source": [
    "#creates a df but only keeping last occurance of Item ID\n",
    "no_dup_items = purchase_data.drop_duplicates(['Item ID'], keep = 'last')\n",
    "#counts items by unique ID\n",
    "total_unique = len(no_dup_items)\n",
    "#finds the number of total purchases by counting occurances of price\n",
    "total_pur = purchase_data['Price'].count()\n",
    "#calculates total revenue for table by summing occurance of price and below calc\n",
    "total_rev = round(purchase_data['Price'].sum(),2)\n",
    "#calculates total_rev\n",
    "avg_price = round(total_rev/total_pur, 2)\n",
    "\n",
    "#creates Purchase Analysis DataFrame\n",
    "pur_analysis = pd.DataFrame([{\n",
    "    \"Number of Unique Items\": total_unique,\n",
    "    'Average Purchase Price': avg_price,\n",
    "    'Total Purchases': total_pur,\n",
    "    'Total Revenue': total_rev\n",
    "}])\n",
    "\n",
    "#format Purchases Analysis Table\n",
    "pur_analysis.style.format({'Average Purchase Price': '${:.2f}', 'Total Revenue': '${:,.2f}'})"
   ]
  },
  {
   "cell_type": "markdown",
   "metadata": {},
   "source": [
    "## Gender Demographics"
   ]
  },
  {
   "cell_type": "markdown",
   "metadata": {},
   "source": [
    "* Percentage and Count of Male Players\n",
    "\n",
    "\n",
    "* Percentage and Count of Female Players\n",
    "\n",
    "\n",
    "* Percentage and Count of Other / Non-Disclosed\n",
    "\n",
    "\n"
   ]
  },
  {
   "cell_type": "code",
   "execution_count": 15,
   "metadata": {},
   "outputs": [
    {
     "data": {
      "text/html": [
       "<style  type=\"text/css\" >\n",
       "</style><table id=\"T_25c35fc2_f5ec_11e9_93e1_18dbf24bbe1f\" ><thead>    <tr>        <th class=\"blank level0\" ></th>        <th class=\"col_heading level0 col0\" >Total Count</th>        <th class=\"col_heading level0 col1\" >Percentage of Players</th>    </tr>    <tr>        <th class=\"index_name level0\" >Gender</th>        <th class=\"blank\" ></th>        <th class=\"blank\" ></th>    </tr></thead><tbody>\n",
       "                <tr>\n",
       "                        <th id=\"T_25c35fc2_f5ec_11e9_93e1_18dbf24bbe1flevel0_row0\" class=\"row_heading level0 row0\" >Male</th>\n",
       "                        <td id=\"T_25c35fc2_f5ec_11e9_93e1_18dbf24bbe1frow0_col0\" class=\"data row0 col0\" >484</td>\n",
       "                        <td id=\"T_25c35fc2_f5ec_11e9_93e1_18dbf24bbe1frow0_col1\" class=\"data row0 col1\" >84.03%</td>\n",
       "            </tr>\n",
       "            <tr>\n",
       "                        <th id=\"T_25c35fc2_f5ec_11e9_93e1_18dbf24bbe1flevel0_row1\" class=\"row_heading level0 row1\" >Female</th>\n",
       "                        <td id=\"T_25c35fc2_f5ec_11e9_93e1_18dbf24bbe1frow1_col0\" class=\"data row1 col0\" >81</td>\n",
       "                        <td id=\"T_25c35fc2_f5ec_11e9_93e1_18dbf24bbe1frow1_col1\" class=\"data row1 col1\" >14.06%</td>\n",
       "            </tr>\n",
       "            <tr>\n",
       "                        <th id=\"T_25c35fc2_f5ec_11e9_93e1_18dbf24bbe1flevel0_row2\" class=\"row_heading level0 row2\" >Other / Non-Disclosed</th>\n",
       "                        <td id=\"T_25c35fc2_f5ec_11e9_93e1_18dbf24bbe1frow2_col0\" class=\"data row2 col0\" >11</td>\n",
       "                        <td id=\"T_25c35fc2_f5ec_11e9_93e1_18dbf24bbe1frow2_col1\" class=\"data row2 col1\" >1.91%</td>\n",
       "            </tr>\n",
       "    </tbody></table>"
      ],
      "text/plain": [
       "<pandas.io.formats.style.Styler at 0x168ebbd52b0>"
      ]
     },
     "execution_count": 15,
     "metadata": {},
     "output_type": "execute_result"
    }
   ],
   "source": [
    "#unique player names by only keeping the last occurance\n",
    "no_dup_players = purchase_data.drop_duplicates(['SN'], keep ='last')\n",
    "\n",
    "#counts gender values from the df with no duplicate screen names\n",
    "gender_counts = no_dup_players['Gender'].value_counts().reset_index()\n",
    "\n",
    "#adds column for % of players using player count from first table and gender_count \n",
    "#column which is a count from line above\n",
    "gender_counts['Percentage of Players'] = gender_counts['Gender']/player_count * 100\n",
    "#renames columns\n",
    "gender_counts.rename(columns = {'index': 'Gender', 'Gender': 'Total Count'}, inplace = True)\n",
    "\n",
    "#sets index as Gender for aesthetics \n",
    "gender_counts.set_index(['Gender'], inplace = True)\n",
    "#just checking percents sum to 100%\n",
    "#gender_counts['% of Players'].sum()\n",
    "#formats table\n",
    "gender_counts.style.format({\"Percentage of Players\": \"{:.2f}%\"})"
   ]
  },
  {
   "cell_type": "markdown",
   "metadata": {},
   "source": [
    "\n",
    "## Purchasing Analysis (Gender)"
   ]
  },
  {
   "cell_type": "markdown",
   "metadata": {},
   "source": [
    "* Run basic calculations to obtain purchase count, avg. purchase price, avg. purchase total per person etc. by gender\n",
    "\n",
    "\n",
    "\n",
    "\n",
    "* Create a summary data frame to hold the results\n",
    "\n",
    "\n",
    "* Optional: give the displayed data cleaner formatting\n",
    "\n",
    "\n",
    "* Display the summary data frame"
   ]
  },
  {
   "cell_type": "code",
   "execution_count": 35,
   "metadata": {},
   "outputs": [
    {
     "data": {
      "text/html": [
       "<style  type=\"text/css\" >\n",
       "</style><table id=\"T_05a6624a_f5ef_11e9_9447_18dbf24bbe1f\" ><thead>    <tr>        <th class=\"blank level0\" ></th>        <th class=\"col_heading level0 col0\" ># of Purchases</th>        <th class=\"col_heading level0 col1\" >Total Purchase Value</th>        <th class=\"col_heading level0 col2\" >Average Purchase Price</th>    </tr>    <tr>        <th class=\"index_name level0\" >Gender</th>        <th class=\"blank\" ></th>        <th class=\"blank\" ></th>        <th class=\"blank\" ></th>    </tr></thead><tbody>\n",
       "                <tr>\n",
       "                        <th id=\"T_05a6624a_f5ef_11e9_9447_18dbf24bbe1flevel0_row0\" class=\"row_heading level0 row0\" >Female</th>\n",
       "                        <td id=\"T_05a6624a_f5ef_11e9_9447_18dbf24bbe1frow0_col0\" class=\"data row0 col0\" >113</td>\n",
       "                        <td id=\"T_05a6624a_f5ef_11e9_9447_18dbf24bbe1frow0_col1\" class=\"data row0 col1\" >$361.94</td>\n",
       "                        <td id=\"T_05a6624a_f5ef_11e9_9447_18dbf24bbe1frow0_col2\" class=\"data row0 col2\" >$3.20</td>\n",
       "            </tr>\n",
       "            <tr>\n",
       "                        <th id=\"T_05a6624a_f5ef_11e9_9447_18dbf24bbe1flevel0_row1\" class=\"row_heading level0 row1\" >Male</th>\n",
       "                        <td id=\"T_05a6624a_f5ef_11e9_9447_18dbf24bbe1frow1_col0\" class=\"data row1 col0\" >652</td>\n",
       "                        <td id=\"T_05a6624a_f5ef_11e9_9447_18dbf24bbe1frow1_col1\" class=\"data row1 col1\" >$1967.64</td>\n",
       "                        <td id=\"T_05a6624a_f5ef_11e9_9447_18dbf24bbe1frow1_col2\" class=\"data row1 col2\" >$3.02</td>\n",
       "            </tr>\n",
       "            <tr>\n",
       "                        <th id=\"T_05a6624a_f5ef_11e9_9447_18dbf24bbe1flevel0_row2\" class=\"row_heading level0 row2\" >Other / Non-Disclosed</th>\n",
       "                        <td id=\"T_05a6624a_f5ef_11e9_9447_18dbf24bbe1frow2_col0\" class=\"data row2 col0\" >15</td>\n",
       "                        <td id=\"T_05a6624a_f5ef_11e9_9447_18dbf24bbe1frow2_col1\" class=\"data row2 col1\" >$50.19</td>\n",
       "                        <td id=\"T_05a6624a_f5ef_11e9_9447_18dbf24bbe1frow2_col2\" class=\"data row2 col2\" >$3.35</td>\n",
       "            </tr>\n",
       "    </tbody></table>"
      ],
      "text/plain": [
       "<pandas.io.formats.style.Styler at 0x168ebd73a20>"
      ]
     },
     "execution_count": 35,
     "metadata": {},
     "output_type": "execute_result"
    }
   ],
   "source": [
    "# counts purchases by gender\n",
    "pur_count_by_gen = pd.DataFrame(purchase_data.groupby('Gender')['Gender'].count())\n",
    "# sums price by gender\n",
    "total_pur_by_gen = pd.DataFrame(purchase_data.groupby('Gender')['Price'].sum())\n",
    "\n",
    "pur_analysis_gen = pd.merge(pur_count_by_gen, total_pur_by_gen, left_index = True, right_index = True)\n",
    "#renames columns\n",
    "pur_analysis_gen.rename(columns = {'Gender': '# of Purchases', 'Price':'Total Purchase Value'}, inplace=True)\n",
    "#adds column for average purchase price by gender by dividing total purcahse value by gender by # of purchases by gender\n",
    "pur_analysis_gen['Average Purchase Price'] = pur_analysis_gen['Total Purchase Value']/pur_analysis_gen['# of Purchases']\n",
    "\n",
    "#pur_analysis_gen['Normalized Totals'] = pur_analysis_gen['Total Purchase Value']/pur_analysis_gen['# of Players']\n",
    "pur_analysis_gen\n",
    "pur_analysis_gen.style.format({'Total Purchase Value': '${:.2f}', 'Average Purchase Price': '${:.2f}'})"
   ]
  },
  {
   "cell_type": "markdown",
   "metadata": {},
   "source": [
    "## Age Demographics"
   ]
  },
  {
   "cell_type": "markdown",
   "metadata": {},
   "source": [
    "* Establish bins for ages\n",
    "\n",
    "\n",
    "* Categorize the existing players using the age bins. Hint: use pd.cut()\n",
    "\n",
    "\n",
    "* Calculate the numbers and percentages by age group\n",
    "\n",
    "\n",
    "* Create a summary data frame to hold the results\n",
    "\n",
    "\n",
    "* Optional: round the percentage column to two decimal points\n",
    "\n",
    "\n",
    "* Display Age Demographics Table\n"
   ]
  },
  {
   "cell_type": "code",
   "execution_count": 73,
   "metadata": {},
   "outputs": [
    {
     "data": {
      "text/html": [
       "<style  type=\"text/css\" >\n",
       "</style><table id=\"T_9e37e418_f5f3_11e9_800c_18dbf24bbe1f\" ><thead>    <tr>        <th class=\"blank level0\" ></th>        <th class=\"col_heading level0 col0\" >SN</th>        <th class=\"col_heading level0 col1\" >Percentage of Players</th>    </tr>    <tr>        <th class=\"index_name level0\" >Age</th>        <th class=\"blank\" ></th>        <th class=\"blank\" ></th>    </tr></thead><tbody>\n",
       "                <tr>\n",
       "                        <th id=\"T_9e37e418_f5f3_11e9_800c_18dbf24bbe1flevel0_row0\" class=\"row_heading level0 row0\" >10 - 14</th>\n",
       "                        <td id=\"T_9e37e418_f5f3_11e9_800c_18dbf24bbe1frow0_col0\" class=\"data row0 col0\" >28</td>\n",
       "                        <td id=\"T_9e37e418_f5f3_11e9_800c_18dbf24bbe1frow0_col1\" class=\"data row0 col1\" >3.59%</td>\n",
       "            </tr>\n",
       "            <tr>\n",
       "                        <th id=\"T_9e37e418_f5f3_11e9_800c_18dbf24bbe1flevel0_row1\" class=\"row_heading level0 row1\" >15 - 19</th>\n",
       "                        <td id=\"T_9e37e418_f5f3_11e9_800c_18dbf24bbe1frow1_col0\" class=\"data row1 col0\" >136</td>\n",
       "                        <td id=\"T_9e37e418_f5f3_11e9_800c_18dbf24bbe1frow1_col1\" class=\"data row1 col1\" >17.44%</td>\n",
       "            </tr>\n",
       "            <tr>\n",
       "                        <th id=\"T_9e37e418_f5f3_11e9_800c_18dbf24bbe1flevel0_row2\" class=\"row_heading level0 row2\" >20 - 24</th>\n",
       "                        <td id=\"T_9e37e418_f5f3_11e9_800c_18dbf24bbe1frow2_col0\" class=\"data row2 col0\" >365</td>\n",
       "                        <td id=\"T_9e37e418_f5f3_11e9_800c_18dbf24bbe1frow2_col1\" class=\"data row2 col1\" >46.79%</td>\n",
       "            </tr>\n",
       "            <tr>\n",
       "                        <th id=\"T_9e37e418_f5f3_11e9_800c_18dbf24bbe1flevel0_row3\" class=\"row_heading level0 row3\" >25 - 29</th>\n",
       "                        <td id=\"T_9e37e418_f5f3_11e9_800c_18dbf24bbe1frow3_col0\" class=\"data row3 col0\" >101</td>\n",
       "                        <td id=\"T_9e37e418_f5f3_11e9_800c_18dbf24bbe1frow3_col1\" class=\"data row3 col1\" >12.95%</td>\n",
       "            </tr>\n",
       "            <tr>\n",
       "                        <th id=\"T_9e37e418_f5f3_11e9_800c_18dbf24bbe1flevel0_row4\" class=\"row_heading level0 row4\" >30 - 34</th>\n",
       "                        <td id=\"T_9e37e418_f5f3_11e9_800c_18dbf24bbe1frow4_col0\" class=\"data row4 col0\" >73</td>\n",
       "                        <td id=\"T_9e37e418_f5f3_11e9_800c_18dbf24bbe1frow4_col1\" class=\"data row4 col1\" >9.36%</td>\n",
       "            </tr>\n",
       "            <tr>\n",
       "                        <th id=\"T_9e37e418_f5f3_11e9_800c_18dbf24bbe1flevel0_row5\" class=\"row_heading level0 row5\" >35 - 39</th>\n",
       "                        <td id=\"T_9e37e418_f5f3_11e9_800c_18dbf24bbe1frow5_col0\" class=\"data row5 col0\" >41</td>\n",
       "                        <td id=\"T_9e37e418_f5f3_11e9_800c_18dbf24bbe1frow5_col1\" class=\"data row5 col1\" >5.26%</td>\n",
       "            </tr>\n",
       "            <tr>\n",
       "                        <th id=\"T_9e37e418_f5f3_11e9_800c_18dbf24bbe1flevel0_row6\" class=\"row_heading level0 row6\" >< 10</th>\n",
       "                        <td id=\"T_9e37e418_f5f3_11e9_800c_18dbf24bbe1frow6_col0\" class=\"data row6 col0\" >23</td>\n",
       "                        <td id=\"T_9e37e418_f5f3_11e9_800c_18dbf24bbe1frow6_col1\" class=\"data row6 col1\" >2.95%</td>\n",
       "            </tr>\n",
       "            <tr>\n",
       "                        <th id=\"T_9e37e418_f5f3_11e9_800c_18dbf24bbe1flevel0_row7\" class=\"row_heading level0 row7\" >> 40</th>\n",
       "                        <td id=\"T_9e37e418_f5f3_11e9_800c_18dbf24bbe1frow7_col0\" class=\"data row7 col0\" >13</td>\n",
       "                        <td id=\"T_9e37e418_f5f3_11e9_800c_18dbf24bbe1frow7_col1\" class=\"data row7 col1\" >1.67%</td>\n",
       "            </tr>\n",
       "    </tbody></table>"
      ],
      "text/plain": [
       "<pandas.io.formats.style.Styler at 0x168eb9334e0>"
      ]
     },
     "execution_count": 73,
     "metadata": {},
     "output_type": "execute_result"
    }
   ],
   "source": [
    "#creates a column 'age_bin' based on conditional of age range\n",
    "purchase_data.loc[(purchase_data['Age'] < 10), 'age_bin'] = \"< 10\"\n",
    "purchase_data.loc[(purchase_data['Age'] >= 10) & (purchase_data['Age'] <= 14), 'age_bin'] = \"10 - 14\"\n",
    "purchase_data.loc[(purchase_data['Age'] >= 15) & (purchase_data['Age'] <= 19), 'age_bin'] = \"15 - 19\"\n",
    "purchase_data.loc[(purchase_data['Age'] >= 20) & (purchase_data['Age'] <= 24), 'age_bin'] = \"20 - 24\"\n",
    "purchase_data.loc[(purchase_data['Age'] >= 25) & (purchase_data['Age'] <= 29), 'age_bin'] = \"25 - 29\"\n",
    "purchase_data.loc[(purchase_data['Age'] >= 30) & (purchase_data['Age'] <= 34), 'age_bin'] = \"30 - 34\"\n",
    "purchase_data.loc[(purchase_data['Age'] >= 35) & (purchase_data['Age'] <= 39), 'age_bin'] = \"35 - 39\"\n",
    "purchase_data.loc[(purchase_data['Age'] >= 40), 'age_bin'] = \"> 40\"\n",
    "\n",
    "total_count=purchase_data[['age_bin', 'Age']].count()\n",
    "# counts purchases by age bin by counting screen names (non-unique)\n",
    "pur_count_age = pd.DataFrame(purchase_data.groupby('age_bin')['SN'].count())\n",
    "pur_count_age['Percentage of Players']=pd.DataFrame(purchase_data.groupby('age_bin')['SN'].count())*100/total_pur\n",
    "pur_count_age.index.rename(\"Age\", inplace=True)\n",
    "pur_count_age.style.format({'Percentage of Players':'{:.2f}%'})\n"
   ]
  },
  {
   "cell_type": "markdown",
   "metadata": {},
   "source": [
    "## Purchasing Analysis (Age)"
   ]
  },
  {
   "cell_type": "markdown",
   "metadata": {},
   "source": [
    "* Bin the purchase_data data frame by age\n",
    "\n",
    "\n",
    "* Run basic calculations to obtain purchase count, avg. purchase price, avg. purchase total per person etc. in the table below\n",
    "\n",
    "\n",
    "* Create a summary data frame to hold the results\n",
    "\n",
    "\n",
    "* Optional: give the displayed data cleaner formatting\n",
    "\n",
    "\n",
    "* Display the summary data frame"
   ]
  },
  {
   "cell_type": "code",
   "execution_count": 85,
   "metadata": {},
   "outputs": [
    {
     "data": {
      "text/html": [
       "<style  type=\"text/css\" >\n",
       "</style><table id=\"T_d2e6e9fe_f5f4_11e9_abd9_18dbf24bbe1f\" ><thead>    <tr>        <th class=\"blank level0\" ></th>        <th class=\"col_heading level0 col0\" >Purchase Count</th>        <th class=\"col_heading level0 col1\" >Average Purchase Price</th>        <th class=\"col_heading level0 col2\" >Total Purchase Value</th>    </tr>    <tr>        <th class=\"index_name level0\" >Age</th>        <th class=\"blank\" ></th>        <th class=\"blank\" ></th>        <th class=\"blank\" ></th>    </tr></thead><tbody>\n",
       "                <tr>\n",
       "                        <th id=\"T_d2e6e9fe_f5f4_11e9_abd9_18dbf24bbe1flevel0_row0\" class=\"row_heading level0 row0\" >10 - 14</th>\n",
       "                        <td id=\"T_d2e6e9fe_f5f4_11e9_abd9_18dbf24bbe1frow0_col0\" class=\"data row0 col0\" >28</td>\n",
       "                        <td id=\"T_d2e6e9fe_f5f4_11e9_abd9_18dbf24bbe1frow0_col1\" class=\"data row0 col1\" >$2.96</td>\n",
       "                        <td id=\"T_d2e6e9fe_f5f4_11e9_abd9_18dbf24bbe1frow0_col2\" class=\"data row0 col2\" >$82.78</td>\n",
       "            </tr>\n",
       "            <tr>\n",
       "                        <th id=\"T_d2e6e9fe_f5f4_11e9_abd9_18dbf24bbe1flevel0_row1\" class=\"row_heading level0 row1\" >15 - 19</th>\n",
       "                        <td id=\"T_d2e6e9fe_f5f4_11e9_abd9_18dbf24bbe1frow1_col0\" class=\"data row1 col0\" >136</td>\n",
       "                        <td id=\"T_d2e6e9fe_f5f4_11e9_abd9_18dbf24bbe1frow1_col1\" class=\"data row1 col1\" >$3.04</td>\n",
       "                        <td id=\"T_d2e6e9fe_f5f4_11e9_abd9_18dbf24bbe1frow1_col2\" class=\"data row1 col2\" >$412.89</td>\n",
       "            </tr>\n",
       "            <tr>\n",
       "                        <th id=\"T_d2e6e9fe_f5f4_11e9_abd9_18dbf24bbe1flevel0_row2\" class=\"row_heading level0 row2\" >20 - 24</th>\n",
       "                        <td id=\"T_d2e6e9fe_f5f4_11e9_abd9_18dbf24bbe1frow2_col0\" class=\"data row2 col0\" >365</td>\n",
       "                        <td id=\"T_d2e6e9fe_f5f4_11e9_abd9_18dbf24bbe1frow2_col1\" class=\"data row2 col1\" >$3.05</td>\n",
       "                        <td id=\"T_d2e6e9fe_f5f4_11e9_abd9_18dbf24bbe1frow2_col2\" class=\"data row2 col2\" >$1114.06</td>\n",
       "            </tr>\n",
       "            <tr>\n",
       "                        <th id=\"T_d2e6e9fe_f5f4_11e9_abd9_18dbf24bbe1flevel0_row3\" class=\"row_heading level0 row3\" >25 - 29</th>\n",
       "                        <td id=\"T_d2e6e9fe_f5f4_11e9_abd9_18dbf24bbe1frow3_col0\" class=\"data row3 col0\" >101</td>\n",
       "                        <td id=\"T_d2e6e9fe_f5f4_11e9_abd9_18dbf24bbe1frow3_col1\" class=\"data row3 col1\" >$2.90</td>\n",
       "                        <td id=\"T_d2e6e9fe_f5f4_11e9_abd9_18dbf24bbe1frow3_col2\" class=\"data row3 col2\" >$293.00</td>\n",
       "            </tr>\n",
       "            <tr>\n",
       "                        <th id=\"T_d2e6e9fe_f5f4_11e9_abd9_18dbf24bbe1flevel0_row4\" class=\"row_heading level0 row4\" >30 - 34</th>\n",
       "                        <td id=\"T_d2e6e9fe_f5f4_11e9_abd9_18dbf24bbe1frow4_col0\" class=\"data row4 col0\" >73</td>\n",
       "                        <td id=\"T_d2e6e9fe_f5f4_11e9_abd9_18dbf24bbe1frow4_col1\" class=\"data row4 col1\" >$2.93</td>\n",
       "                        <td id=\"T_d2e6e9fe_f5f4_11e9_abd9_18dbf24bbe1frow4_col2\" class=\"data row4 col2\" >$214.00</td>\n",
       "            </tr>\n",
       "            <tr>\n",
       "                        <th id=\"T_d2e6e9fe_f5f4_11e9_abd9_18dbf24bbe1flevel0_row5\" class=\"row_heading level0 row5\" >35 - 39</th>\n",
       "                        <td id=\"T_d2e6e9fe_f5f4_11e9_abd9_18dbf24bbe1frow5_col0\" class=\"data row5 col0\" >41</td>\n",
       "                        <td id=\"T_d2e6e9fe_f5f4_11e9_abd9_18dbf24bbe1frow5_col1\" class=\"data row5 col1\" >$3.60</td>\n",
       "                        <td id=\"T_d2e6e9fe_f5f4_11e9_abd9_18dbf24bbe1frow5_col2\" class=\"data row5 col2\" >$147.67</td>\n",
       "            </tr>\n",
       "            <tr>\n",
       "                        <th id=\"T_d2e6e9fe_f5f4_11e9_abd9_18dbf24bbe1flevel0_row6\" class=\"row_heading level0 row6\" >< 10</th>\n",
       "                        <td id=\"T_d2e6e9fe_f5f4_11e9_abd9_18dbf24bbe1frow6_col0\" class=\"data row6 col0\" >23</td>\n",
       "                        <td id=\"T_d2e6e9fe_f5f4_11e9_abd9_18dbf24bbe1frow6_col1\" class=\"data row6 col1\" >$3.35</td>\n",
       "                        <td id=\"T_d2e6e9fe_f5f4_11e9_abd9_18dbf24bbe1frow6_col2\" class=\"data row6 col2\" >$77.13</td>\n",
       "            </tr>\n",
       "            <tr>\n",
       "                        <th id=\"T_d2e6e9fe_f5f4_11e9_abd9_18dbf24bbe1flevel0_row7\" class=\"row_heading level0 row7\" >> 40</th>\n",
       "                        <td id=\"T_d2e6e9fe_f5f4_11e9_abd9_18dbf24bbe1frow7_col0\" class=\"data row7 col0\" >13</td>\n",
       "                        <td id=\"T_d2e6e9fe_f5f4_11e9_abd9_18dbf24bbe1frow7_col1\" class=\"data row7 col1\" >$2.94</td>\n",
       "                        <td id=\"T_d2e6e9fe_f5f4_11e9_abd9_18dbf24bbe1frow7_col2\" class=\"data row7 col2\" >$38.24</td>\n",
       "            </tr>\n",
       "    </tbody></table>"
      ],
      "text/plain": [
       "<pandas.io.formats.style.Styler at 0x168ebfa4da0>"
      ]
     },
     "execution_count": 85,
     "metadata": {},
     "output_type": "execute_result"
    }
   ],
   "source": [
    "#creates a column 'age_bin' based on conditional of age range\n",
    "purchase_data.loc[(purchase_data['Age'] < 10), 'age_bin'] = \"< 10\"\n",
    "purchase_data.loc[(purchase_data['Age'] >= 10) & (purchase_data['Age'] <= 14), 'age_bin'] = \"10 - 14\"\n",
    "purchase_data.loc[(purchase_data['Age'] >= 15) & (purchase_data['Age'] <= 19), 'age_bin'] = \"15 - 19\"\n",
    "purchase_data.loc[(purchase_data['Age'] >= 20) & (purchase_data['Age'] <= 24), 'age_bin'] = \"20 - 24\"\n",
    "purchase_data.loc[(purchase_data['Age'] >= 25) & (purchase_data['Age'] <= 29), 'age_bin'] = \"25 - 29\"\n",
    "purchase_data.loc[(purchase_data['Age'] >= 30) & (purchase_data['Age'] <= 34), 'age_bin'] = \"30 - 34\"\n",
    "purchase_data.loc[(purchase_data['Age'] >= 35) & (purchase_data['Age'] <= 39), 'age_bin'] = \"35 - 39\"\n",
    "purchase_data.loc[(purchase_data['Age'] >= 40), 'age_bin'] = \"> 40\"\n",
    "\n",
    "# counts purchases by age bin by counting screen names (non-unique)\n",
    "pur_count_age = pd.DataFrame(purchase_data.groupby('age_bin')['SN'].count())\n",
    "#finds avg price of purchases by age bin\n",
    "avg_price_age = pd.DataFrame(purchase_data.groupby('age_bin')['Price'].mean())\n",
    "#finds total purchase value by age bin\n",
    "tot_pur_age = pd.DataFrame(purchase_data.groupby('age_bin')['Price'].sum())\n",
    "#merges all info from above into one df\n",
    "merge_age = pd.merge(pur_count_age, avg_price_age, left_index = True, right_index = True).merge(tot_pur_age, left_index = True, right_index = True)\n",
    "#renames columns\n",
    "merge_age.rename(columns = {\"SN\": \"Purchase Count\", \"Price_x\": \"Average Purchase Price\", \"Price_y\": \"Total Purchase Value\", \"SN_y\": \"# of Purchasers\"}, inplace = True)\n",
    "#calculates normalized totals\n",
    "merge_age.index.rename(\"Age\", inplace = True)\n",
    "# formats\n",
    "merge_age.style.format({'Average Purchase Price': '${:.2f}', 'Total Purchase Value': '${:.2f}'})"
   ]
  },
  {
   "cell_type": "markdown",
   "metadata": {},
   "source": [
    "## Top Spenders"
   ]
  },
  {
   "cell_type": "markdown",
   "metadata": {},
   "source": [
    "* Run basic calculations to obtain the results in the table below\n",
    "\n",
    "\n",
    "* Create a summary data frame to hold the results\n",
    "\n",
    "\n",
    "* Sort the total purchase value column in descending order\n",
    "\n",
    "\n",
    "* Optional: give the displayed data cleaner formatting\n",
    "\n",
    "\n",
    "* Display a preview of the summary data frame\n",
    "\n"
   ]
  },
  {
   "cell_type": "code",
   "execution_count": 94,
   "metadata": {},
   "outputs": [
    {
     "data": {
      "text/html": [
       "<style  type=\"text/css\" >\n",
       "</style><table id=\"T_d80eed88_f5f5_11e9_a142_18dbf24bbe1f\" ><thead>    <tr>        <th class=\"blank level0\" ></th>        <th class=\"col_heading level0 col0\" >Purchase Count</th>        <th class=\"col_heading level0 col1\" >Average Purchase Price</th>        <th class=\"col_heading level0 col2\" >Total Purchase Value</th>    </tr>    <tr>        <th class=\"index_name level0\" >SN</th>        <th class=\"blank\" ></th>        <th class=\"blank\" ></th>        <th class=\"blank\" ></th>    </tr></thead><tbody>\n",
       "                <tr>\n",
       "                        <th id=\"T_d80eed88_f5f5_11e9_a142_18dbf24bbe1flevel0_row0\" class=\"row_heading level0 row0\" >Lisosia93</th>\n",
       "                        <td id=\"T_d80eed88_f5f5_11e9_a142_18dbf24bbe1frow0_col0\" class=\"data row0 col0\" >5</td>\n",
       "                        <td id=\"T_d80eed88_f5f5_11e9_a142_18dbf24bbe1frow0_col1\" class=\"data row0 col1\" >$3.79</td>\n",
       "                        <td id=\"T_d80eed88_f5f5_11e9_a142_18dbf24bbe1frow0_col2\" class=\"data row0 col2\" >$18.96</td>\n",
       "            </tr>\n",
       "            <tr>\n",
       "                        <th id=\"T_d80eed88_f5f5_11e9_a142_18dbf24bbe1flevel0_row1\" class=\"row_heading level0 row1\" >Idastidru52</th>\n",
       "                        <td id=\"T_d80eed88_f5f5_11e9_a142_18dbf24bbe1frow1_col0\" class=\"data row1 col0\" >4</td>\n",
       "                        <td id=\"T_d80eed88_f5f5_11e9_a142_18dbf24bbe1frow1_col1\" class=\"data row1 col1\" >$3.86</td>\n",
       "                        <td id=\"T_d80eed88_f5f5_11e9_a142_18dbf24bbe1frow1_col2\" class=\"data row1 col2\" >$15.45</td>\n",
       "            </tr>\n",
       "            <tr>\n",
       "                        <th id=\"T_d80eed88_f5f5_11e9_a142_18dbf24bbe1flevel0_row2\" class=\"row_heading level0 row2\" >Chamjask73</th>\n",
       "                        <td id=\"T_d80eed88_f5f5_11e9_a142_18dbf24bbe1frow2_col0\" class=\"data row2 col0\" >3</td>\n",
       "                        <td id=\"T_d80eed88_f5f5_11e9_a142_18dbf24bbe1frow2_col1\" class=\"data row2 col1\" >$4.61</td>\n",
       "                        <td id=\"T_d80eed88_f5f5_11e9_a142_18dbf24bbe1frow2_col2\" class=\"data row2 col2\" >$13.83</td>\n",
       "            </tr>\n",
       "            <tr>\n",
       "                        <th id=\"T_d80eed88_f5f5_11e9_a142_18dbf24bbe1flevel0_row3\" class=\"row_heading level0 row3\" >Iral74</th>\n",
       "                        <td id=\"T_d80eed88_f5f5_11e9_a142_18dbf24bbe1frow3_col0\" class=\"data row3 col0\" >4</td>\n",
       "                        <td id=\"T_d80eed88_f5f5_11e9_a142_18dbf24bbe1frow3_col1\" class=\"data row3 col1\" >$3.40</td>\n",
       "                        <td id=\"T_d80eed88_f5f5_11e9_a142_18dbf24bbe1frow3_col2\" class=\"data row3 col2\" >$13.62</td>\n",
       "            </tr>\n",
       "            <tr>\n",
       "                        <th id=\"T_d80eed88_f5f5_11e9_a142_18dbf24bbe1flevel0_row4\" class=\"row_heading level0 row4\" >Iskadarya95</th>\n",
       "                        <td id=\"T_d80eed88_f5f5_11e9_a142_18dbf24bbe1frow4_col0\" class=\"data row4 col0\" >3</td>\n",
       "                        <td id=\"T_d80eed88_f5f5_11e9_a142_18dbf24bbe1frow4_col1\" class=\"data row4 col1\" >$4.37</td>\n",
       "                        <td id=\"T_d80eed88_f5f5_11e9_a142_18dbf24bbe1frow4_col2\" class=\"data row4 col2\" >$13.10</td>\n",
       "            </tr>\n",
       "    </tbody></table>"
      ],
      "text/plain": [
       "<pandas.io.formats.style.Styler at 0x168ebd7cd30>"
      ]
     },
     "execution_count": 94,
     "metadata": {},
     "output_type": "execute_result"
    }
   ],
   "source": [
    "#Group by screen name to find, total purchase per person, number of purchases per person, and average price price per person\n",
    "purchase_amt_by_SN = pd.DataFrame(purchase_data.groupby('SN')['Price'].sum())\n",
    "num_purchase_by_SN = pd.DataFrame(purchase_data.groupby('SN')['Price'].count())\n",
    "avg_purchase_by_SN = pd.DataFrame(purchase_data.groupby('SN')['Price'].mean())\n",
    "# merge the above dfs\n",
    "merged_top5 = pd.merge(num_purchase_by_SN, avg_purchase_by_SN, left_index = True, right_index = True).merge(purchase_amt_by_SN, left_index=True, right_index=True)\n",
    "# rename columns\n",
    "merged_top5.rename(columns = {'Price_x': 'Purchase Count', 'Price_y':'Average Purchase Price', 'Price':'Total Purchase Value'}, inplace = True)\n",
    "# sort from highest purchase value to lowest\n",
    "merged_top5.sort_values('Total Purchase Value', ascending = False, inplace=True)\n",
    "# take top 5 only\n",
    "merged_top5 = merged_top5.head()\n",
    "# format\n",
    "merged_top5.style.format({'Total Purchase Value': '${:.2f}', 'Average Purchase Price': '${:.2f}'})"
   ]
  },
  {
   "cell_type": "markdown",
   "metadata": {},
   "source": [
    "## Most Popular Items"
   ]
  },
  {
   "cell_type": "markdown",
   "metadata": {},
   "source": [
    "* Retrieve the Item ID, Item Name, and Item Price columns\n",
    "\n",
    "\n",
    "* Group by Item ID and Item Name. Perform calculations to obtain purchase count, item price, and total purchase value\n",
    "\n",
    "\n",
    "* Create a summary data frame to hold the results\n",
    "\n",
    "\n",
    "* Sort the purchase count column in descending order\n",
    "\n",
    "\n",
    "* Optional: give the displayed data cleaner formatting\n",
    "\n",
    "\n",
    "* Display a preview of the summary data frame\n",
    "\n"
   ]
  },
  {
   "cell_type": "code",
   "execution_count": 116,
   "metadata": {},
   "outputs": [
    {
     "data": {
      "text/html": [
       "<div>\n",
       "<style scoped>\n",
       "    .dataframe tbody tr th:only-of-type {\n",
       "        vertical-align: middle;\n",
       "    }\n",
       "\n",
       "    .dataframe tbody tr th {\n",
       "        vertical-align: top;\n",
       "    }\n",
       "\n",
       "    .dataframe thead th {\n",
       "        text-align: right;\n",
       "    }\n",
       "</style>\n",
       "<table border=\"1\" class=\"dataframe\">\n",
       "  <thead>\n",
       "    <tr style=\"text-align: right;\">\n",
       "      <th></th>\n",
       "      <th></th>\n",
       "      <th>Purchase Count</th>\n",
       "      <th>Item price</th>\n",
       "      <th>Total Purchase Value</th>\n",
       "    </tr>\n",
       "    <tr>\n",
       "      <th>Item ID</th>\n",
       "      <th>Item Name</th>\n",
       "      <th></th>\n",
       "      <th></th>\n",
       "      <th></th>\n",
       "    </tr>\n",
       "  </thead>\n",
       "  <tbody>\n",
       "    <tr>\n",
       "      <th>178</th>\n",
       "      <th>Oathbreaker, Last Hope of the Breaking Storm</th>\n",
       "      <td>12</td>\n",
       "      <td>$4.23</td>\n",
       "      <td>$50.76</td>\n",
       "    </tr>\n",
       "    <tr>\n",
       "      <th>145</th>\n",
       "      <th>Fiery Glass Crusader</th>\n",
       "      <td>9</td>\n",
       "      <td>$4.58</td>\n",
       "      <td>$41.22</td>\n",
       "    </tr>\n",
       "    <tr>\n",
       "      <th>108</th>\n",
       "      <th>Extraction, Quickblade Of Trembling Hands</th>\n",
       "      <td>9</td>\n",
       "      <td>$3.53</td>\n",
       "      <td>$31.77</td>\n",
       "    </tr>\n",
       "    <tr>\n",
       "      <th>82</th>\n",
       "      <th>Nirvana</th>\n",
       "      <td>9</td>\n",
       "      <td>$4.90</td>\n",
       "      <td>$44.10</td>\n",
       "    </tr>\n",
       "    <tr>\n",
       "      <th>19</th>\n",
       "      <th>Pursuit, Cudgel of Necromancy</th>\n",
       "      <td>8</td>\n",
       "      <td>$1.02</td>\n",
       "      <td>$8.16</td>\n",
       "    </tr>\n",
       "  </tbody>\n",
       "</table>\n",
       "</div>"
      ],
      "text/plain": [
       "                                                      Purchase Count  \\\n",
       "Item ID Item Name                                                      \n",
       "178     Oathbreaker, Last Hope of the Breaking Storm              12   \n",
       "145     Fiery Glass Crusader                                       9   \n",
       "108     Extraction, Quickblade Of Trembling Hands                  9   \n",
       "82      Nirvana                                                    9   \n",
       "19      Pursuit, Cudgel of Necromancy                              8   \n",
       "\n",
       "                                                     Item price  \\\n",
       "Item ID Item Name                                                 \n",
       "178     Oathbreaker, Last Hope of the Breaking Storm      $4.23   \n",
       "145     Fiery Glass Crusader                              $4.58   \n",
       "108     Extraction, Quickblade Of Trembling Hands         $3.53   \n",
       "82      Nirvana                                           $4.90   \n",
       "19      Pursuit, Cudgel of Necromancy                     $1.02   \n",
       "\n",
       "                                                     Total Purchase Value  \n",
       "Item ID Item Name                                                          \n",
       "178     Oathbreaker, Last Hope of the Breaking Storm               $50.76  \n",
       "145     Fiery Glass Crusader                                       $41.22  \n",
       "108     Extraction, Quickblade Of Trembling Hands                  $31.77  \n",
       "82      Nirvana                                                    $44.10  \n",
       "19      Pursuit, Cudgel of Necromancy                               $8.16  "
      ]
     },
     "execution_count": 116,
     "metadata": {},
     "output_type": "execute_result"
    }
   ],
   "source": [
    "# gets a count of each item by grouping by Item ID and counting the number of each IDs occurances\n",
    "popular_df = pd.DataFrame(purchase_data.groupby(['Item ID','Item Name'])['SN'].count())\n",
    "popular_df = popular_df.rename(columns={\"SN\": \"Purchase Count\"})\n",
    "popular_df.columns = [\"Purchase Count\"]\n",
    "\n",
    "popular_df1 = pd.DataFrame(purchase_data.groupby(['Item ID','Item Name'])['Price'].sum())\n",
    "popular_df1[\"Purchase Count\"] = popular_df[\"Purchase Count\"]\n",
    "popular_df1[\"Total Purchase Value\"] = popular_df1[\"Price\"]\n",
    "Most_Popular = popular_df1.sort_values(by='Purchase Count', ascending=False)\n",
    "Most_Popular_top = (Most_Popular.nlargest(5, 'Purchase Count'))\n",
    "Most_Popular_top_df = pd.DataFrame(Most_Popular_top)\n",
    "Most_Popular_top_df['Price'] = Most_Popular_top_df['Price'] / Most_Popular_top_df['Purchase Count']\n",
    "Most_Popular_top_df[\"Total Purchase Value\"] = Most_Popular_top_df[\"Price\"]*Most_Popular_top_df[\"Purchase Count\"]\n",
    "Most_Popular_top_df['Price'] = Most_Popular_top_df['Price'].map(\"${:.2f}\".format)\n",
    "Most_Popular_top_df['Total Purchase Value'] = Most_Popular_top_df['Total Purchase Value'].map(\"${:.2f}\".format)\n",
    "\n",
    "Most_Popular_top_df = Most_Popular_top_df.rename(columns={\"Price\": \"Item price\"})\n",
    "\n",
    "Most_Popular_top_df[['Purchase Count','Item price','Total Purchase Value']]"
   ]
  },
  {
   "cell_type": "markdown",
   "metadata": {},
   "source": [
    "## Most Profitable Items"
   ]
  },
  {
   "cell_type": "markdown",
   "metadata": {},
   "source": [
    "* Sort the above table by total purchase value in descending order\n",
    "\n",
    "\n",
    "* Optional: give the displayed data cleaner formatting\n",
    "\n",
    "\n",
    "* Display a preview of the data frame\n",
    "\n"
   ]
  },
  {
   "cell_type": "code",
   "execution_count": 117,
   "metadata": {
    "scrolled": true
   },
   "outputs": [
    {
     "data": {
      "text/html": [
       "<div>\n",
       "<style scoped>\n",
       "    .dataframe tbody tr th:only-of-type {\n",
       "        vertical-align: middle;\n",
       "    }\n",
       "\n",
       "    .dataframe tbody tr th {\n",
       "        vertical-align: top;\n",
       "    }\n",
       "\n",
       "    .dataframe thead th {\n",
       "        text-align: right;\n",
       "    }\n",
       "</style>\n",
       "<table border=\"1\" class=\"dataframe\">\n",
       "  <thead>\n",
       "    <tr style=\"text-align: right;\">\n",
       "      <th></th>\n",
       "      <th></th>\n",
       "      <th>Purchase Count</th>\n",
       "      <th>Item price</th>\n",
       "      <th>Total Purchase Value</th>\n",
       "    </tr>\n",
       "    <tr>\n",
       "      <th>Item ID</th>\n",
       "      <th>Item Name</th>\n",
       "      <th></th>\n",
       "      <th></th>\n",
       "      <th></th>\n",
       "    </tr>\n",
       "  </thead>\n",
       "  <tbody>\n",
       "    <tr>\n",
       "      <th>178</th>\n",
       "      <th>Oathbreaker, Last Hope of the Breaking Storm</th>\n",
       "      <td>12</td>\n",
       "      <td>$4.23</td>\n",
       "      <td>$50.76</td>\n",
       "    </tr>\n",
       "    <tr>\n",
       "      <th>82</th>\n",
       "      <th>Nirvana</th>\n",
       "      <td>9</td>\n",
       "      <td>$4.90</td>\n",
       "      <td>$44.10</td>\n",
       "    </tr>\n",
       "    <tr>\n",
       "      <th>145</th>\n",
       "      <th>Fiery Glass Crusader</th>\n",
       "      <td>9</td>\n",
       "      <td>$4.58</td>\n",
       "      <td>$41.22</td>\n",
       "    </tr>\n",
       "    <tr>\n",
       "      <th>92</th>\n",
       "      <th>Final Critic</th>\n",
       "      <td>8</td>\n",
       "      <td>$4.88</td>\n",
       "      <td>$39.04</td>\n",
       "    </tr>\n",
       "    <tr>\n",
       "      <th>103</th>\n",
       "      <th>Singed Scalpel</th>\n",
       "      <td>8</td>\n",
       "      <td>$4.35</td>\n",
       "      <td>$34.80</td>\n",
       "    </tr>\n",
       "  </tbody>\n",
       "</table>\n",
       "</div>"
      ],
      "text/plain": [
       "                                                      Purchase Count  \\\n",
       "Item ID Item Name                                                      \n",
       "178     Oathbreaker, Last Hope of the Breaking Storm              12   \n",
       "82      Nirvana                                                    9   \n",
       "145     Fiery Glass Crusader                                       9   \n",
       "92      Final Critic                                               8   \n",
       "103     Singed Scalpel                                             8   \n",
       "\n",
       "                                                     Item price  \\\n",
       "Item ID Item Name                                                 \n",
       "178     Oathbreaker, Last Hope of the Breaking Storm      $4.23   \n",
       "82      Nirvana                                           $4.90   \n",
       "145     Fiery Glass Crusader                              $4.58   \n",
       "92      Final Critic                                      $4.88   \n",
       "103     Singed Scalpel                                    $4.35   \n",
       "\n",
       "                                                     Total Purchase Value  \n",
       "Item ID Item Name                                                          \n",
       "178     Oathbreaker, Last Hope of the Breaking Storm               $50.76  \n",
       "82      Nirvana                                                    $44.10  \n",
       "145     Fiery Glass Crusader                                       $41.22  \n",
       "92      Final Critic                                               $39.04  \n",
       "103     Singed Scalpel                                             $34.80  "
      ]
     },
     "execution_count": 117,
     "metadata": {},
     "output_type": "execute_result"
    }
   ],
   "source": [
    "Most_Profitable = popular_df1.sort_values(by='Total Purchase Value', ascending=False)\n",
    "Most_Profitable_top = (Most_Profitable.nlargest(5, 'Total Purchase Value'))\n",
    "Most_Profitable_top_df = pd.DataFrame(Most_Profitable_top)\n",
    "Most_Profitable_top_df['Price'] = Most_Profitable_top_df['Price'] / Most_Profitable_top_df['Purchase Count']\n",
    "Most_Profitable_top_df['Price'] = Most_Profitable_top_df['Price'].map(\"${:.2f}\".format)\n",
    "Most_Profitable_top_df['Total Purchase Value'] = Most_Profitable_top_df['Total Purchase Value'].map(\"${:.2f}\".format)\n",
    "\n",
    "Most_Profitable_top_df = Most_Profitable_top_df.rename(columns={\"Price\": \"Item price\"})\n",
    "\n",
    "Most_Profitable_top_df[['Purchase Count','Item price','Total Purchase Value']]"
   ]
  },
  {
   "cell_type": "code",
   "execution_count": null,
   "metadata": {},
   "outputs": [],
   "source": []
  }
 ],
 "metadata": {
  "anaconda-cloud": {},
  "kernel_info": {
   "name": "python3"
  },
  "kernelspec": {
   "display_name": "Python 3",
   "language": "python",
   "name": "python3"
  },
  "language_info": {
   "codemirror_mode": {
    "name": "ipython",
    "version": 3
   },
   "file_extension": ".py",
   "mimetype": "text/x-python",
   "name": "python",
   "nbconvert_exporter": "python",
   "pygments_lexer": "ipython3",
   "version": "3.7.3"
  },
  "latex_envs": {
   "LaTeX_envs_menu_present": true,
   "autoclose": false,
   "autocomplete": true,
   "bibliofile": "biblio.bib",
   "cite_by": "apalike",
   "current_citInitial": 1,
   "eqLabelWithNumbers": true,
   "eqNumInitial": 1,
   "hotkeys": {
    "equation": "Ctrl-E",
    "itemize": "Ctrl-I"
   },
   "labels_anchors": false,
   "latex_user_defs": false,
   "report_style_numbering": false,
   "user_envs_cfg": false
  },
  "nteract": {
   "version": "0.2.0"
  }
 },
 "nbformat": 4,
 "nbformat_minor": 2
}
